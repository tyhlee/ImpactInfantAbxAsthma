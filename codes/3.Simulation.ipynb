{
 "cells": [
  {
   "cell_type": "code",
   "execution_count": 1,
   "metadata": {
    "scrolled": false
   },
   "outputs": [],
   "source": [
    "# # Uncomment and run this if you do not have the following packages\n",
    "# using Pkg\n",
    "# # LEAP model\n",
    "# Pkg.add(url=\"https://github.com/tyhlee/LEAP.jl\")\n",
    "# # # changing the input for simulation model\n",
    "# Pkg.add(\"Setfield\")\n",
    "# # save output\n",
    "# Pkg.add(\"JLD\")\n",
    "# Pkg.add(\"JLD2\")\n",
    "# Pkg.add(\"CodecZlib\")\n",
    "# # Optional: parallel computation\n",
    "# # start your jupyter notebook with X number of threads you want to use\n",
    "# Pkg.add(\"Distributed\")"
   ]
  },
  {
   "cell_type": "code",
   "execution_count": 2,
   "metadata": {},
   "outputs": [],
   "source": [
    "# import packages\n",
    "using LEAP, Setfield, JLD, JLD2\n",
    "using Distributed"
   ]
  },
  {
   "cell_type": "code",
   "execution_count": 3,
   "metadata": {},
   "outputs": [
    {
     "data": {
      "text/plain": [
       "6"
      ]
     },
     "execution_count": 3,
     "metadata": {},
     "output_type": "execute_result"
    }
   ],
   "source": [
    "# check the number of threads for parallel computation\n",
    "Threads.nthreads()"
   ]
  },
  {
   "cell_type": "code",
   "execution_count": 4,
   "metadata": {},
   "outputs": [
    {
     "data": {
      "text/plain": [
       "\"../results\""
      ]
     },
     "execution_count": 4,
     "metadata": {},
     "output_type": "execute_result"
    }
   ],
   "source": [
    "# createa a folder for results\n",
    "results_dir = \"../results\";\n",
    "mkdir(results_dir)"
   ]
  },
  {
   "cell_type": "code",
   "execution_count": 5,
   "metadata": {},
   "outputs": [],
   "source": [
    "# three scenarios\n",
    "# set max age to 111, province to British Columbia (BC), starting year to 2001, and run it for 18 cycles/years\n",
    "base_model = LEAP.set_up(111,\"BC\",2001,18,\"full\",\"M3\");\n",
    "flat_model = base_model;\n",
    "@set! flat_model.antibioticExposure.parameters[:fixyear] = 2001;\n",
    "mid_model =  base_model;\n",
    "@set! mid_model.antibioticExposure.parameters[:fixyear] = \"mid\";"
   ]
  },
  {
   "cell_type": "code",
   "execution_count": 6,
   "metadata": {
    "scrolled": true
   },
   "outputs": [
    {
     "name": "stdout",
     "output_type": "stream",
     "text": [
      "2001\n",
      "2002\n",
      "2003\n",
      "2004\n",
      "2005\n",
      "2006\n",
      "2007\n",
      "2008\n",
      "2009\n",
      "2010\n",
      "2011\n",
      "2012\n",
      "2013\n",
      "2014\n",
      "2015\n",
      "2016\n",
      "2017\n",
      "2018\n",
      "\n",
      " Simulation finished. Check your simulation object for results.\u001b[0m\u001b[1m ───────────────────────────────────────────────────────────────────────────────\u001b[22m\n",
      "\u001b[0m\u001b[1m                              \u001b[22m         Time                    Allocations      \n",
      "                              ───────────────────────   ────────────────────────\n",
      "       Tot / % measured:           5.39s /  94.0%           2.67GiB /  97.5%    \n",
      "\n",
      " Section              ncalls     time    %tot     avg     alloc    %tot      avg\n",
      " ───────────────────────────────────────────────────────────────────────────────\n",
      " calendar year 2001        1    4.33s   85.5%   4.33s   2.21GiB   84.9%  2.21GiB\n",
      " calendar year 2002        1    215ms    4.2%   215ms   45.7MiB    1.7%  45.7MiB\n",
      " calendar year 2006        1   48.1ms    0.9%  48.1ms   31.3MiB    1.2%  31.3MiB\n",
      " calendar year 2004        1   42.2ms    0.8%  42.2ms   28.6MiB    1.1%  28.6MiB\n",
      " calendar year 2013        1   39.0ms    0.8%  39.0ms   23.4MiB    0.9%  23.4MiB\n",
      " calendar year 2011        1   38.9ms    0.8%  38.9ms   24.8MiB    0.9%  24.8MiB\n",
      " calendar year 2007        1   37.9ms    0.7%  37.9ms   28.5MiB    1.1%  28.5MiB\n",
      " calendar year 2008        1   35.0ms    0.7%  35.0ms   29.8MiB    1.1%  29.8MiB\n",
      " calendar year 2009        1   34.9ms    0.7%  34.9ms   24.3MiB    0.9%  24.3MiB\n",
      " calendar year 2005        1   33.9ms    0.7%  33.9ms   28.9MiB    1.1%  28.9MiB\n",
      " calendar year 2003        1   32.9ms    0.6%  32.9ms   27.7MiB    1.0%  27.7MiB\n",
      " calendar year 2015        1   27.2ms    0.5%  27.2ms   15.9MiB    0.6%  15.9MiB\n",
      " calendar year 2014        1   26.7ms    0.5%  26.7ms   19.2MiB    0.7%  19.2MiB\n",
      " calendar year 2012        1   26.7ms    0.5%  26.7ms   21.4MiB    0.8%  21.4MiB\n",
      " sleep                     1   22.0ms    0.4%  22.0ms      144B    0.0%     144B\n",
      " calendar year 2010        1   21.3ms    0.4%  21.3ms   17.8MiB    0.7%  17.8MiB\n",
      " calendar year 2017        1   20.1ms    0.4%  20.1ms   12.9MiB    0.5%  12.9MiB\n",
      " calendar year 2018        1   19.1ms    0.4%  19.1ms   10.6MiB    0.4%  10.6MiB\n",
      " calendar year 2016        1   15.6ms    0.3%  15.6ms   11.8MiB    0.4%  11.8MiB\n",
      "\u001b[0m\u001b[1m ───────────────────────────────────────────────────────────────────────────────\u001b[22m\n"
     ]
    }
   ],
   "source": [
    "# ensure that the model works\n",
    "test_model = base_model;\n",
    "# set the simulation to 0.1% for a test run\n",
    "@set! test_model.n = 0.001; \n",
    "# args: model, rng seed, run until everyone dies, verbose\n",
    "test_run = LEAP.process(test_model,0,false,true);\n",
    "# ~5s on my machine"
   ]
  },
  {
   "cell_type": "code",
   "execution_count": 7,
   "metadata": {
    "scrolled": true
   },
   "outputs": [],
   "source": [
    "# This is a test run for parallel computation\n",
    "# test\n",
    "test_results_dir = \"../test_results\";\n",
    "mkdir(test_results_dir)\n",
    "\n",
    "n = 0.001\n",
    "N = 6\n",
    "@set! base_model.n = n;\n",
    "@set! flat_model.n = n;\n",
    "@set! mid_model.n = n;\n",
    "\n",
    "Threads.@threads for i = 1:N\n",
    "    tmp_dir = string(test_results_dir,\"/\",i,\"\")\n",
    "    mkdir(tmp_dir)\n",
    "    JLD2.jldsave(string(tmp_dir,\"/\",\"base.jld\"),true; outcome = LEAP.process(base_model,i,false,false))\n",
    "    JLD2.jldsave(string(tmp_dir,\"/\",\"flat.jld\"),true; outcome = LEAP.process(flat_model,i,false,false))\n",
    "    JLD2.jldsave(string(tmp_dir,\"/\",\"mid.jld\"),true; outcome = LEAP.process(mid_model,i,false,false))\n",
    "end"
   ]
  },
  {
   "cell_type": "code",
   "execution_count": 8,
   "metadata": {},
   "outputs": [],
   "source": [
    "n = 0.1\n",
    "N = 1/n * 100\n",
    "@set! base_model.n = n;\n",
    "@set! flat_model.n = n;\n",
    "@set! mid_model.n = n;\n",
    "\n",
    "Threads.@threads for i = 1:N\n",
    "    i = Int(i)\n",
    "    tmp_dir = string(results_dir,\"/\",i,\"\")\n",
    "    mkdir(tmp_dir)\n",
    "    JLD2.jldsave(string(tmp_dir,\"/\",\"base.jld\"),true; outcome = LEAP.process(base_model,i,false,false))\n",
    "    JLD2.jldsave(string(tmp_dir,\"/\",\"flat.jld\"),true; outcome = LEAP.process(flat_model,i,false,false))\n",
    "    JLD2.jldsave(string(tmp_dir,\"/\",\"mid.jld\"),true; outcome = LEAP.process(mid_model,i,false,false))\n",
    "end"
   ]
  }
 ],
 "metadata": {
  "kernelspec": {
   "display_name": "Julia 1.9.0",
   "language": "julia",
   "name": "julia-1.9"
  },
  "language_info": {
   "file_extension": ".jl",
   "mimetype": "application/julia",
   "name": "julia",
   "version": "1.9.0"
  }
 },
 "nbformat": 4,
 "nbformat_minor": 4
}
